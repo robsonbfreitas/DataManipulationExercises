{
  "nbformat": 4,
  "nbformat_minor": 0,
  "metadata": {
    "colab": {
      "name": "Manipulacao_de_Dados_Ex_03.ipynb",
      "provenance": [],
      "collapsed_sections": [],
      "toc_visible": true,
      "include_colab_link": true
    },
    "kernelspec": {
      "display_name": "Python 3",
      "language": "python",
      "name": "python3"
    },
    "language_info": {
      "codemirror_mode": {
        "name": "ipython",
        "version": 3
      },
      "file_extension": ".py",
      "mimetype": "text/x-python",
      "name": "python",
      "nbconvert_exporter": "python",
      "pygments_lexer": "ipython3",
      "version": "3.7.9"
    }
  },
  "cells": [
    {
      "cell_type": "markdown",
      "metadata": {
        "id": "view-in-github",
        "colab_type": "text"
      },
      "source": [
        "<a href=\"https://colab.research.google.com/github/robsonbfreitas/DataManipulationExercises/blob/main/Manipulacao_de_Dados_Ex_03.ipynb\" target=\"_parent\"><img src=\"https://colab.research.google.com/assets/colab-badge.svg\" alt=\"Open In Colab\"/></a>"
      ]
    },
    {
      "cell_type": "markdown",
      "metadata": {
        "id": "hAcVCqunNHPq"
      },
      "source": [
        "![](https://i.imgur.com/JsMvGnP.png)"
      ]
    },
    {
      "cell_type": "markdown",
      "metadata": {
        "id": "xlIVUULwujKa"
      },
      "source": [
        "\n",
        "## Exercícios de manipulação de dados - Parte 3"
      ]
    },
    {
      "cell_type": "markdown",
      "metadata": {
        "id": "RoztT_BzujKc"
      },
      "source": [
        "Neste Jupyter notebook você irá resolver uma exercícios utilizando a biblioteca Pandas.\\\n",
        "Todos os datasets utilizados nos exercícios estão salvos na pasta *datasets*.\\\n",
        "Todo o seu código deve ser executado neste Jupyter Notebook. Por fim, se desejar, revise as respostas com o seu mentor."
      ]
    },
    {
      "cell_type": "markdown",
      "metadata": {
        "id": "VYyMlLtIujKe"
      },
      "source": [
        "#### Tarefa 1. Importe o dataset e salve os dados em um dataframe\n",
        "\n",
        "Os dados estão salvos no arquivo ***datasets/users_dataset.txt***.\\\n",
        "Salve os dados em uma variável de nome *users*."
      ]
    },
    {
      "cell_type": "code",
      "metadata": {
        "id": "eGvMK5G5jeKW"
      },
      "source": [
        "import pandas as pd\r\n",
        "users = pd.read_csv('datasets/users_dataset.csv', sep='|')"
      ],
      "execution_count": 1,
      "outputs": []
    },
    {
      "cell_type": "markdown",
      "metadata": {
        "id": "GpGg63VvujKh"
      },
      "source": [
        "#### Tarefa 2. Descubra qual a idade média por ocupação.\n",
        "\n",
        "*Dica: use a função groupby do Pandas na coluna occupation*"
      ]
    },
    {
      "cell_type": "code",
      "metadata": {
        "colab": {
          "base_uri": "https://localhost:8080/",
          "height": 731
        },
        "id": "xCzIIT60ujKi",
        "outputId": "99da2d07-7b09-4b7d-fbd1-a390a687d065"
      },
      "source": [
        "users.groupby('occupation').mean()"
      ],
      "execution_count": 2,
      "outputs": [
        {
          "output_type": "execute_result",
          "data": {
            "text/html": [
              "<div>\n",
              "<style scoped>\n",
              "    .dataframe tbody tr th:only-of-type {\n",
              "        vertical-align: middle;\n",
              "    }\n",
              "\n",
              "    .dataframe tbody tr th {\n",
              "        vertical-align: top;\n",
              "    }\n",
              "\n",
              "    .dataframe thead th {\n",
              "        text-align: right;\n",
              "    }\n",
              "</style>\n",
              "<table border=\"1\" class=\"dataframe\">\n",
              "  <thead>\n",
              "    <tr style=\"text-align: right;\">\n",
              "      <th></th>\n",
              "      <th>user_id</th>\n",
              "      <th>age</th>\n",
              "    </tr>\n",
              "    <tr>\n",
              "      <th>occupation</th>\n",
              "      <th></th>\n",
              "      <th></th>\n",
              "    </tr>\n",
              "  </thead>\n",
              "  <tbody>\n",
              "    <tr>\n",
              "      <th>administrator</th>\n",
              "      <td>430.949367</td>\n",
              "      <td>38.746835</td>\n",
              "    </tr>\n",
              "    <tr>\n",
              "      <th>artist</th>\n",
              "      <td>451.892857</td>\n",
              "      <td>31.392857</td>\n",
              "    </tr>\n",
              "    <tr>\n",
              "      <th>doctor</th>\n",
              "      <td>533.714286</td>\n",
              "      <td>43.571429</td>\n",
              "    </tr>\n",
              "    <tr>\n",
              "      <th>educator</th>\n",
              "      <td>466.905263</td>\n",
              "      <td>42.010526</td>\n",
              "    </tr>\n",
              "    <tr>\n",
              "      <th>engineer</th>\n",
              "      <td>456.328358</td>\n",
              "      <td>36.388060</td>\n",
              "    </tr>\n",
              "    <tr>\n",
              "      <th>entertainment</th>\n",
              "      <td>398.000000</td>\n",
              "      <td>29.222222</td>\n",
              "    </tr>\n",
              "    <tr>\n",
              "      <th>executive</th>\n",
              "      <td>422.312500</td>\n",
              "      <td>38.718750</td>\n",
              "    </tr>\n",
              "    <tr>\n",
              "      <th>healthcare</th>\n",
              "      <td>501.437500</td>\n",
              "      <td>41.562500</td>\n",
              "    </tr>\n",
              "    <tr>\n",
              "      <th>homemaker</th>\n",
              "      <td>443.000000</td>\n",
              "      <td>32.571429</td>\n",
              "    </tr>\n",
              "    <tr>\n",
              "      <th>lawyer</th>\n",
              "      <td>359.083333</td>\n",
              "      <td>36.750000</td>\n",
              "    </tr>\n",
              "    <tr>\n",
              "      <th>librarian</th>\n",
              "      <td>486.588235</td>\n",
              "      <td>40.000000</td>\n",
              "    </tr>\n",
              "    <tr>\n",
              "      <th>marketing</th>\n",
              "      <td>437.807692</td>\n",
              "      <td>37.615385</td>\n",
              "    </tr>\n",
              "    <tr>\n",
              "      <th>none</th>\n",
              "      <td>368.666667</td>\n",
              "      <td>26.555556</td>\n",
              "    </tr>\n",
              "    <tr>\n",
              "      <th>other</th>\n",
              "      <td>542.733333</td>\n",
              "      <td>34.523810</td>\n",
              "    </tr>\n",
              "    <tr>\n",
              "      <th>programmer</th>\n",
              "      <td>435.530303</td>\n",
              "      <td>33.121212</td>\n",
              "    </tr>\n",
              "    <tr>\n",
              "      <th>retired</th>\n",
              "      <td>515.714286</td>\n",
              "      <td>63.071429</td>\n",
              "    </tr>\n",
              "    <tr>\n",
              "      <th>salesman</th>\n",
              "      <td>494.916667</td>\n",
              "      <td>35.666667</td>\n",
              "    </tr>\n",
              "    <tr>\n",
              "      <th>scientist</th>\n",
              "      <td>465.129032</td>\n",
              "      <td>35.548387</td>\n",
              "    </tr>\n",
              "    <tr>\n",
              "      <th>student</th>\n",
              "      <td>484.954082</td>\n",
              "      <td>22.081633</td>\n",
              "    </tr>\n",
              "    <tr>\n",
              "      <th>technician</th>\n",
              "      <td>497.629630</td>\n",
              "      <td>33.148148</td>\n",
              "    </tr>\n",
              "    <tr>\n",
              "      <th>writer</th>\n",
              "      <td>495.711111</td>\n",
              "      <td>36.311111</td>\n",
              "    </tr>\n",
              "  </tbody>\n",
              "</table>\n",
              "</div>"
            ],
            "text/plain": [
              "                  user_id        age\n",
              "occupation                          \n",
              "administrator  430.949367  38.746835\n",
              "artist         451.892857  31.392857\n",
              "doctor         533.714286  43.571429\n",
              "educator       466.905263  42.010526\n",
              "engineer       456.328358  36.388060\n",
              "entertainment  398.000000  29.222222\n",
              "executive      422.312500  38.718750\n",
              "healthcare     501.437500  41.562500\n",
              "homemaker      443.000000  32.571429\n",
              "lawyer         359.083333  36.750000\n",
              "librarian      486.588235  40.000000\n",
              "marketing      437.807692  37.615385\n",
              "none           368.666667  26.555556\n",
              "other          542.733333  34.523810\n",
              "programmer     435.530303  33.121212\n",
              "retired        515.714286  63.071429\n",
              "salesman       494.916667  35.666667\n",
              "scientist      465.129032  35.548387\n",
              "student        484.954082  22.081633\n",
              "technician     497.629630  33.148148\n",
              "writer         495.711111  36.311111"
            ]
          },
          "metadata": {
            "tags": []
          },
          "execution_count": 2
        }
      ]
    },
    {
      "cell_type": "markdown",
      "metadata": {
        "id": "y1R0vw2XujKn"
      },
      "source": [
        "#### Tarefa 3. Para cada ocupação descubra a idade mínima e máxima."
      ]
    },
    {
      "cell_type": "code",
      "metadata": {
        "id": "GhhaqSCtujKp",
        "colab": {
          "base_uri": "https://localhost:8080/"
        },
        "outputId": "37f5f5ea-a144-4417-afb5-53f4a078c8b2"
      },
      "source": [
        "users.groupby('occupation').age.min()"
      ],
      "execution_count": null,
      "outputs": [
        {
          "output_type": "execute_result",
          "data": {
            "text/plain": [
              "occupation\n",
              "administrator    21\n",
              "artist           19\n",
              "doctor           28\n",
              "educator         23\n",
              "engineer         22\n",
              "entertainment    15\n",
              "executive        22\n",
              "healthcare       22\n",
              "homemaker        20\n",
              "lawyer           21\n",
              "librarian        23\n",
              "marketing        24\n",
              "none             11\n",
              "other            13\n",
              "programmer       20\n",
              "retired          51\n",
              "salesman         18\n",
              "scientist        23\n",
              "student           7\n",
              "technician       21\n",
              "writer           18\n",
              "Name: age, dtype: int64"
            ]
          },
          "metadata": {
            "tags": []
          },
          "execution_count": 20
        }
      ]
    },
    {
      "cell_type": "code",
      "metadata": {
        "id": "0W91gYdZ-HK-",
        "colab": {
          "base_uri": "https://localhost:8080/"
        },
        "outputId": "51e45295-dd02-4b18-a576-cb61bde12e06"
      },
      "source": [
        "users.groupby('occupation').age.max()"
      ],
      "execution_count": null,
      "outputs": [
        {
          "output_type": "execute_result",
          "data": {
            "text/plain": [
              "occupation\n",
              "administrator    70\n",
              "artist           48\n",
              "doctor           64\n",
              "educator         63\n",
              "engineer         70\n",
              "entertainment    50\n",
              "executive        69\n",
              "healthcare       62\n",
              "homemaker        50\n",
              "lawyer           53\n",
              "librarian        69\n",
              "marketing        55\n",
              "none             55\n",
              "other            64\n",
              "programmer       63\n",
              "retired          73\n",
              "salesman         66\n",
              "scientist        55\n",
              "student          42\n",
              "technician       55\n",
              "writer           60\n",
              "Name: age, dtype: int64"
            ]
          },
          "metadata": {
            "tags": []
          },
          "execution_count": 21
        }
      ]
    },
    {
      "cell_type": "markdown",
      "metadata": {
        "id": "DT-Lcsz2ujKz"
      },
      "source": [
        "#### Tarefa 4. Para cada combinação de ocupação e sexo, calcule a idade média.\n",
        "\n",
        "Exemplo:\n",
        "\n",
        "```\n",
        "occupation     gender\n",
        "administrator  F         40.638889\n",
        "               M         37.162791\n",
        "artist         F         30.307692\n",
        "               M         32.333333\n",
        "```"
      ]
    },
    {
      "cell_type": "code",
      "metadata": {
        "id": "aMIV75fTujKz",
        "outputId": "c4d9a192-e754-4eb6-9c17-782101df7b3a",
        "colab": {
          "base_uri": "https://localhost:8080/"
        }
      },
      "source": [
        "users.groupby(['occupation','gender']).age.mean()"
      ],
      "execution_count": 11,
      "outputs": [
        {
          "output_type": "execute_result",
          "data": {
            "text/plain": [
              "occupation     gender\n",
              "administrator  F         40.638889\n",
              "               M         37.162791\n",
              "artist         F         30.307692\n",
              "               M         32.333333\n",
              "doctor         M         43.571429\n",
              "educator       F         39.115385\n",
              "               M         43.101449\n",
              "engineer       F         29.500000\n",
              "               M         36.600000\n",
              "entertainment  F         31.000000\n",
              "               M         29.000000\n",
              "executive      F         44.000000\n",
              "               M         38.172414\n",
              "healthcare     F         39.818182\n",
              "               M         45.400000\n",
              "homemaker      F         34.166667\n",
              "               M         23.000000\n",
              "lawyer         F         39.500000\n",
              "               M         36.200000\n",
              "librarian      F         40.000000\n",
              "               M         40.000000\n",
              "marketing      F         37.200000\n",
              "               M         37.875000\n",
              "none           F         36.500000\n",
              "               M         18.600000\n",
              "other          F         35.472222\n",
              "               M         34.028986\n",
              "programmer     F         32.166667\n",
              "               M         33.216667\n",
              "retired        F         70.000000\n",
              "               M         62.538462\n",
              "salesman       F         27.000000\n",
              "               M         38.555556\n",
              "scientist      F         28.333333\n",
              "               M         36.321429\n",
              "student        F         20.750000\n",
              "               M         22.669118\n",
              "technician     F         38.000000\n",
              "               M         32.961538\n",
              "writer         F         37.631579\n",
              "               M         35.346154\n",
              "Name: age, dtype: float64"
            ]
          },
          "metadata": {
            "tags": []
          },
          "execution_count": 11
        }
      ]
    },
    {
      "cell_type": "markdown",
      "metadata": {
        "id": "B2TxLDyoujK3"
      },
      "source": [
        "#### Tarefa 5. Para cada ocupação calcule a porcentagem de homens e mulheres.\n",
        "\n",
        "Exemplo:\n",
        "\n",
        "```\n",
        "occupation     gender\n",
        "administrator  F          45.569620\n",
        "               M          54.430380\n",
        "artist         F          46.428571\n",
        "               M          53.571429\n",
        "doctor         M         100.000000\n",
        "educator       F          27.368421\n",
        "               M          72.631579\n",
        "```"
      ]
    },
    {
      "cell_type": "code",
      "metadata": {
        "id": "XnBH1LMuujK4"
      },
      "source": [
        "# Seu código"
      ],
      "execution_count": null,
      "outputs": []
    },
    {
      "cell_type": "markdown",
      "metadata": {
        "id": "Wkw71CayujK-"
      },
      "source": [
        "**Parabéns! Você chegou ao fim!**"
      ]
    }
  ]
}